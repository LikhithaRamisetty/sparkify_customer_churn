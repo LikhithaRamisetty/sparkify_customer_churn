{
 "cells": [
  {
   "cell_type": "markdown",
   "metadata": {},
   "source": [
    "# Sparkify Churn Analysis\n",
    "\n",
    "In this notebook, we build a model for Sparkify, an imaginary music streaming application. We have access to the log files, and engineer features in order to be able to predict churn. \n",
    "\n",
    "We first load the necessary libraries."
   ]
  },
  {
   "cell_type": "code",
   "execution_count": 35,
   "metadata": {},
   "outputs": [],
   "source": [
    "# import libraries\n",
    "from pyspark.sql import SparkSession\n",
    "from pyspark.sql.functions import avg, substring, col, when, desc, min, max, sum, \\\n",
    "split, udf, count, countDistinct, rand, struct, isnan, isnull, from_unixtime, dayofmonth, month\n",
    "from pyspark.sql.types import IntegerType, ArrayType, FloatType, DoubleType, Row, DateType\n",
    "from pyspark.ml.linalg import DenseVector, SparseVector\n",
    "\n",
    "from pyspark.ml import Pipeline\n",
    "from pyspark.ml.classification import LogisticRegression, RandomForestClassifier, GBTClassifier\n",
    "from pyspark.ml.evaluation import MulticlassClassificationEvaluator\n",
    "from pyspark.ml.feature import CountVectorizer, IDF, Normalizer, PCA, RegexTokenizer, StandardScaler, StopWordsRemover, StringIndexer, VectorAssembler\n",
    "from pyspark.ml.tuning import CrossValidator, ParamGridBuilder\n",
    "\n",
    "import pandas as pd\n",
    "import matplotlib.pyplot as plt\n",
    "import seaborn as sns\n",
    "%matplotlib inline"
   ]
  },
  {
   "cell_type": "markdown",
   "metadata": {},
   "source": [
    "# Load and Clean Dataset\n",
    "\n",
    "First load and then clean the dataset, checking for invalid or missing data. "
   ]
  },
  {
   "cell_type": "code",
   "execution_count": 2,
   "metadata": {},
   "outputs": [
    {
     "name": "stdout",
     "output_type": "stream",
     "text": [
      "+----------------+---------+---------+------+-------------+--------+---------+-----+--------------------+------+--------+-------------+---------+--------------------+------+-------------+--------------------+------+\n",
      "|          artist|     auth|firstName|gender|itemInSession|lastName|   length|level|            location|method|    page| registration|sessionId|                song|status|           ts|           userAgent|userId|\n",
      "+----------------+---------+---------+------+-------------+--------+---------+-----+--------------------+------+--------+-------------+---------+--------------------+------+-------------+--------------------+------+\n",
      "|  Martha Tilston|Logged In|    Colin|     M|           50| Freeman|277.89016| paid|     Bakersfield, CA|   PUT|NextSong|1538173362000|       29|           Rockpools|   200|1538352117000|Mozilla/5.0 (Wind...|    30|\n",
      "|Five Iron Frenzy|Logged In|    Micah|     M|           79|    Long|236.09424| free|Boston-Cambridge-...|   PUT|NextSong|1538331630000|        8|              Canada|   200|1538352180000|\"Mozilla/5.0 (Win...|     9|\n",
      "|    Adam Lambert|Logged In|    Colin|     M|           51| Freeman| 282.8273| paid|     Bakersfield, CA|   PUT|NextSong|1538173362000|       29|   Time For Miracles|   200|1538352394000|Mozilla/5.0 (Wind...|    30|\n",
      "|          Enigma|Logged In|    Micah|     M|           80|    Long|262.71302| free|Boston-Cambridge-...|   PUT|NextSong|1538331630000|        8|Knocking On Forbi...|   200|1538352416000|\"Mozilla/5.0 (Win...|     9|\n",
      "|       Daft Punk|Logged In|    Colin|     M|           52| Freeman|223.60771| paid|     Bakersfield, CA|   PUT|NextSong|1538173362000|       29|Harder Better Fas...|   200|1538352676000|Mozilla/5.0 (Wind...|    30|\n",
      "+----------------+---------+---------+------+-------------+--------+---------+-----+--------------------+------+--------+-------------+---------+--------------------+------+-------------+--------------------+------+\n",
      "only showing top 5 rows\n",
      "\n"
     ]
    }
   ],
   "source": [
    "spark = SparkSession \\\n",
    "    .builder \\\n",
    "    .appName(\"Wrangling Data\") \\\n",
    "    .getOrCreate()\n",
    "\n",
    "path = \"mini_sparkify_event_data.json\"\n",
    "df = spark.read.json(path)\n",
    "df.persist()\n",
    "\n",
    "df.show(5)"
   ]
  },
  {
   "cell_type": "code",
   "execution_count": 3,
   "metadata": {},
   "outputs": [],
   "source": [
    "# We also create a view, in order to leverage the SQL syntax where applicable\n",
    "df.createOrReplaceTempView('logs')"
   ]
  },
  {
   "cell_type": "code",
   "execution_count": 4,
   "metadata": {},
   "outputs": [
    {
     "name": "stdout",
     "output_type": "stream",
     "text": [
      "+------+----+---------+------+-------------+--------+------+-----+--------+------+----+------------+---------+-----+------+---+---------+------+\n",
      "|artist|auth|firstName|gender|itemInSession|lastName|length|level|location|method|page|registration|sessionId| song|status| ts|userAgent|userId|\n",
      "+------+----+---------+------+-------------+--------+------+-----+--------+------+----+------------+---------+-----+------+---+---------+------+\n",
      "| 58392|   0|     8346|  8346|            0|    8346| 58392|    0|    8346|     0|   0|        8346|        0|58392|     0|  0|     8346|     0|\n",
      "+------+----+---------+------+-------------+--------+------+-----+--------+------+----+------------+---------+-----+------+---+---------+------+\n",
      "\n"
     ]
    }
   ],
   "source": [
    "# Visualize the presence of potential null values in critical columns\n",
    "df.select([count(when(isnull(c), c)).alias(c) for c in df.columns]).show()"
   ]
  },
  {
   "cell_type": "code",
   "execution_count": 5,
   "metadata": {},
   "outputs": [
    {
     "name": "stdout",
     "output_type": "stream",
     "text": [
      "+------+----------+---------+------+-------------+--------+------+-----+--------+------+-----+------------+---------+----+------+-------------+---------+------+\n",
      "|artist|      auth|firstName|gender|itemInSession|lastName|length|level|location|method| page|registration|sessionId|song|status|           ts|userAgent|userId|\n",
      "+------+----------+---------+------+-------------+--------+------+-----+--------+------+-----+------------+---------+----+------+-------------+---------+------+\n",
      "|  null|Logged Out|     null|  null|          100|    null|  null| free|    null|   GET| Home|        null|        8|null|   200|1538355745000|     null|      |\n",
      "|  null|Logged Out|     null|  null|          101|    null|  null| free|    null|   GET| Help|        null|        8|null|   200|1538355807000|     null|      |\n",
      "|  null|Logged Out|     null|  null|          102|    null|  null| free|    null|   GET| Home|        null|        8|null|   200|1538355841000|     null|      |\n",
      "|  null|Logged Out|     null|  null|          103|    null|  null| free|    null|   PUT|Login|        null|        8|null|   307|1538355842000|     null|      |\n",
      "|  null|Logged Out|     null|  null|            2|    null|  null| free|    null|   GET| Home|        null|      240|null|   200|1538356678000|     null|      |\n",
      "|  null|Logged Out|     null|  null|            3|    null|  null| free|    null|   PUT|Login|        null|      240|null|   307|1538356679000|     null|      |\n",
      "|  null|Logged Out|     null|  null|            0|    null|  null| free|    null|   PUT|Login|        null|      100|null|   307|1538358102000|     null|      |\n",
      "|  null|Logged Out|     null|  null|            0|    null|  null| free|    null|   PUT|Login|        null|      241|null|   307|1538360117000|     null|      |\n",
      "|  null|Logged Out|     null|  null|           14|    null|  null| free|    null|   GET| Home|        null|      187|null|   200|1538361527000|     null|      |\n",
      "|  null|Logged Out|     null|  null|           15|    null|  null| free|    null|   PUT|Login|        null|      187|null|   307|1538361528000|     null|      |\n",
      "+------+----------+---------+------+-------------+--------+------+-----+--------+------+-----+------------+---------+----+------+-------------+---------+------+\n",
      "only showing top 10 rows\n",
      "\n"
     ]
    }
   ],
   "source": [
    "# Explore missing values in firstName column\n",
    "df.where(col('firstName').isNull()).show(10)"
   ]
  },
  {
   "cell_type": "code",
   "execution_count": 6,
   "metadata": {},
   "outputs": [
    {
     "name": "stdout",
     "output_type": "stream",
     "text": [
      "+------+----------+---------+------+-------------+--------+------+-----+--------------------+------+---------------+-------------+---------+----+------+-------------+--------------------+------+\n",
      "|artist|      auth|firstName|gender|itemInSession|lastName|length|level|            location|method|           page| registration|sessionId|song|status|           ts|           userAgent|userId|\n",
      "+------+----------+---------+------+-------------+--------+------+-----+--------------------+------+---------------+-------------+---------+----+------+-------------+--------------------+------+\n",
      "|  null| Logged In|    Colin|     M|           54| Freeman|  null| paid|     Bakersfield, CA|   PUT|Add to Playlist|1538173362000|       29|null|   200|1538352905000|Mozilla/5.0 (Wind...|    30|\n",
      "|  null| Logged In|    Micah|     M|           84|    Long|  null| free|Boston-Cambridge-...|   GET|    Roll Advert|1538331630000|        8|null|   200|1538353150000|\"Mozilla/5.0 (Win...|     9|\n",
      "|  null| Logged In|    Micah|     M|           86|    Long|  null| free|Boston-Cambridge-...|   PUT|      Thumbs Up|1538331630000|        8|null|   307|1538353376000|\"Mozilla/5.0 (Win...|     9|\n",
      "|  null| Logged In|    Alexi|     F|            4|  Warren|  null| paid|Spokane-Spokane V...|   GET|      Downgrade|1532482662000|       53|null|   200|1538354749000|Mozilla/5.0 (Wind...|    54|\n",
      "|  null| Logged In|    Alexi|     F|            7|  Warren|  null| paid|Spokane-Spokane V...|   PUT|      Thumbs Up|1532482662000|       53|null|   307|1538355255000|Mozilla/5.0 (Wind...|    54|\n",
      "|  null| Logged In|    Micah|     M|           95|    Long|  null| free|Boston-Cambridge-...|   PUT|    Thumbs Down|1538331630000|        8|null|   307|1538355306000|\"Mozilla/5.0 (Win...|     9|\n",
      "|  null| Logged In|    Micah|     M|           97|    Long|  null| free|Boston-Cambridge-...|   GET|           Home|1538331630000|        8|null|   200|1538355504000|\"Mozilla/5.0 (Win...|     9|\n",
      "|  null| Logged In|    Micah|     M|           99|    Long|  null| free|Boston-Cambridge-...|   PUT|         Logout|1538331630000|        8|null|   307|1538355687000|\"Mozilla/5.0 (Win...|     9|\n",
      "|  null| Logged In|  Ashlynn|     F|            9|Williams|  null| free|     Tallahassee, FL|   PUT|      Thumbs Up|1537365219000|      217|null|   307|1538355711000|\"Mozilla/5.0 (Mac...|    74|\n",
      "|  null|Logged Out|     null|  null|          100|    null|  null| free|                null|   GET|           Home|         null|        8|null|   200|1538355745000|                null|      |\n",
      "+------+----------+---------+------+-------------+--------+------+-----+--------------------+------+---------------+-------------+---------+----+------+-------------+--------------------+------+\n",
      "only showing top 10 rows\n",
      "\n"
     ]
    }
   ],
   "source": [
    "# Explore missing values in the artist column\n",
    "df.where(col('artist').isNull()).show(10)"
   ]
  },
  {
   "cell_type": "code",
   "execution_count": 7,
   "metadata": {},
   "outputs": [],
   "source": [
    "# Filter out logged out users\n",
    "df = df.where(col('auth') != 'Logged Out')"
   ]
  },
  {
   "cell_type": "markdown",
   "metadata": {},
   "source": [
    "Although at a top level there are no missing values in the userId or sessionId columns, looking further at missing values in the firstName columns shows that logged out users have empty (but not null) user ID's. We exclude these users for our analysis. There are also missing values in the artist column, but these correspond to logs for non-music related actions (\"Add to Playlist\", \"Roll Advert\") etc... As long as these users are logged in, we want to keep this activity for they could be important markers of activity for classification."
   ]
  },
  {
   "cell_type": "markdown",
   "metadata": {},
   "source": [
    "# Exploratory Data Analysis\n",
    "\n",
    "## Define Churn"
   ]
  },
  {
   "cell_type": "code",
   "execution_count": 8,
   "metadata": {},
   "outputs": [
    {
     "name": "stdout",
     "output_type": "stream",
     "text": [
      "root\n",
      " |-- artist: string (nullable = true)\n",
      " |-- auth: string (nullable = true)\n",
      " |-- firstName: string (nullable = true)\n",
      " |-- gender: string (nullable = true)\n",
      " |-- itemInSession: long (nullable = true)\n",
      " |-- lastName: string (nullable = true)\n",
      " |-- length: double (nullable = true)\n",
      " |-- level: string (nullable = true)\n",
      " |-- location: string (nullable = true)\n",
      " |-- method: string (nullable = true)\n",
      " |-- page: string (nullable = true)\n",
      " |-- registration: long (nullable = true)\n",
      " |-- sessionId: long (nullable = true)\n",
      " |-- song: string (nullable = true)\n",
      " |-- status: long (nullable = true)\n",
      " |-- ts: long (nullable = true)\n",
      " |-- userAgent: string (nullable = true)\n",
      " |-- userId: string (nullable = true)\n",
      "\n"
     ]
    }
   ],
   "source": [
    "# We start by visualizing the variables available\n",
    "df.printSchema()"
   ]
  },
  {
   "cell_type": "code",
   "execution_count": 9,
   "metadata": {},
   "outputs": [
    {
     "name": "stdout",
     "output_type": "stream",
     "text": [
      "+----------------+---------+---------+------+-------------+--------+---------+-----+--------------------+------+--------+-------------+---------+--------------------+------+-------------+--------------------+------+\n",
      "|          artist|     auth|firstName|gender|itemInSession|lastName|   length|level|            location|method|    page| registration|sessionId|                song|status|           ts|           userAgent|userId|\n",
      "+----------------+---------+---------+------+-------------+--------+---------+-----+--------------------+------+--------+-------------+---------+--------------------+------+-------------+--------------------+------+\n",
      "|  Martha Tilston|Logged In|    Colin|     M|           50| Freeman|277.89016| paid|     Bakersfield, CA|   PUT|NextSong|1538173362000|       29|           Rockpools|   200|1538352117000|Mozilla/5.0 (Wind...|    30|\n",
      "|Five Iron Frenzy|Logged In|    Micah|     M|           79|    Long|236.09424| free|Boston-Cambridge-...|   PUT|NextSong|1538331630000|        8|              Canada|   200|1538352180000|\"Mozilla/5.0 (Win...|     9|\n",
      "|    Adam Lambert|Logged In|    Colin|     M|           51| Freeman| 282.8273| paid|     Bakersfield, CA|   PUT|NextSong|1538173362000|       29|   Time For Miracles|   200|1538352394000|Mozilla/5.0 (Wind...|    30|\n",
      "|          Enigma|Logged In|    Micah|     M|           80|    Long|262.71302| free|Boston-Cambridge-...|   PUT|NextSong|1538331630000|        8|Knocking On Forbi...|   200|1538352416000|\"Mozilla/5.0 (Win...|     9|\n",
      "|       Daft Punk|Logged In|    Colin|     M|           52| Freeman|223.60771| paid|     Bakersfield, CA|   PUT|NextSong|1538173362000|       29|Harder Better Fas...|   200|1538352676000|Mozilla/5.0 (Wind...|    30|\n",
      "+----------------+---------+---------+------+-------------+--------+---------+-----+--------------------+------+--------+-------------+---------+--------------------+------+-------------+--------------------+------+\n",
      "only showing top 5 rows\n",
      "\n"
     ]
    }
   ],
   "source": [
    "# We visualize the first few rows\n",
    "df.show(n=5)"
   ]
  },
  {
   "cell_type": "code",
   "execution_count": 10,
   "metadata": {},
   "outputs": [
    {
     "name": "stdout",
     "output_type": "stream",
     "text": [
      "+--------------------+------+\n",
      "|                Page| count|\n",
      "+--------------------+------+\n",
      "|              Cancel|    52|\n",
      "|    Submit Downgrade|    63|\n",
      "|         Thumbs Down|  2546|\n",
      "|                Home| 10118|\n",
      "|           Downgrade|  2055|\n",
      "|         Roll Advert|  3933|\n",
      "|              Logout|  3226|\n",
      "|       Save Settings|   310|\n",
      "|Cancellation Conf...|    52|\n",
      "|               About|   509|\n",
      "| Submit Registration|     5|\n",
      "|            Settings|  1514|\n",
      "|            Register|    18|\n",
      "|     Add to Playlist|  6526|\n",
      "|          Add Friend|  4277|\n",
      "|            NextSong|228108|\n",
      "|           Thumbs Up| 12551|\n",
      "|                Help|  1477|\n",
      "|             Upgrade|   499|\n",
      "|               Error|   253|\n",
      "+--------------------+------+\n",
      "only showing top 20 rows\n",
      "\n"
     ]
    }
   ],
   "source": [
    "# We visualize all the events and their associated counts\n",
    "df.groupBy('Page').count().show()"
   ]
  },
  {
   "cell_type": "code",
   "execution_count": 11,
   "metadata": {},
   "outputs": [
    {
     "name": "stdout",
     "output_type": "stream",
     "text": [
      "+--------+\n",
      "|nb_users|\n",
      "+--------+\n",
      "|     226|\n",
      "+--------+\n",
      "\n"
     ]
    }
   ],
   "source": [
    "# We see how many unique users are present in this dataset\n",
    "spark.sql('SELECT COUNT(DISTINCT userId) AS nb_users FROM logs').show()"
   ]
  },
  {
   "cell_type": "code",
   "execution_count": 12,
   "metadata": {},
   "outputs": [
    {
     "data": {
      "text/plain": [
       "226"
      ]
     },
     "execution_count": 12,
     "metadata": {},
     "output_type": "execute_result"
    }
   ],
   "source": [
    "# Create a dataset with all user ID's and a label which specifies whether that individual churned or not\n",
    "\n",
    "# First a dataset with users who churned\n",
    "churn = spark.sql('SELECT DISTINCT userId, 1 as churn FROM logs WHERE Page = \"Cancellation Confirmation\"')\n",
    "\n",
    "# Then the other users\n",
    "no_churn = spark.sql('SELECT DISTINCT userId, 0 as churn FROM logs \\\n",
    "                      WHERE userId NOT IN (SELECT DISTINCT userId FROM logs WHERE Page = \"Cancellation Confirmation\")')\n",
    "\n",
    "# Create a dataframe from the union of the two, shuffling the rows\n",
    "churn_df = churn.union(no_churn)\n",
    "churn_df.createOrReplaceTempView('churn')\n",
    "churn_df = spark.sql('SELECT * FROM churn ORDER BY RAND()')\n",
    "churn_df.createOrReplaceTempView('churn')\n",
    "\n",
    "# Check that we have the right number of users\n",
    "churn_df.count()"
   ]
  },
  {
   "cell_type": "code",
   "execution_count": 13,
   "metadata": {},
   "outputs": [
    {
     "data": {
      "text/html": [
       "<div>\n",
       "<style scoped>\n",
       "    .dataframe tbody tr th:only-of-type {\n",
       "        vertical-align: middle;\n",
       "    }\n",
       "\n",
       "    .dataframe tbody tr th {\n",
       "        vertical-align: top;\n",
       "    }\n",
       "\n",
       "    .dataframe thead th {\n",
       "        text-align: right;\n",
       "    }\n",
       "</style>\n",
       "<table border=\"1\" class=\"dataframe\">\n",
       "  <thead>\n",
       "    <tr style=\"text-align: right;\">\n",
       "      <th></th>\n",
       "      <th>churn</th>\n",
       "      <th>userId</th>\n",
       "    </tr>\n",
       "  </thead>\n",
       "  <tbody>\n",
       "    <tr>\n",
       "      <th>0</th>\n",
       "      <td>0</td>\n",
       "      <td>174</td>\n",
       "    </tr>\n",
       "    <tr>\n",
       "      <th>1</th>\n",
       "      <td>1</td>\n",
       "      <td>52</td>\n",
       "    </tr>\n",
       "  </tbody>\n",
       "</table>\n",
       "</div>"
      ],
      "text/plain": [
       "   churn  userId\n",
       "0      0     174\n",
       "1      1      52"
      ]
     },
     "execution_count": 13,
     "metadata": {},
     "output_type": "execute_result"
    }
   ],
   "source": [
    "# visualize the distribution of users between churning or not\n",
    "churn_pd_df = churn_df.toPandas()\n",
    "churn_pd_df.groupby('churn', as_index=False).count()"
   ]
  },
  {
   "cell_type": "markdown",
   "metadata": {},
   "source": [
    "We define churn at the user ID level by finding cancellation confirmation events and then creating an indicator that a user, at any time in its history, will churn. This approach allows us to study behavior prior to churning to try and build a predictive model and extract behaviors that indicate a risk of churning in the future.\n",
    "\n",
    "It is important to note that our dataset has a class imbalance, containing more than 3 times as many users who did not churn. We will need to keep this in mind when building our model and use some up- or downsampling techniques. "
   ]
  },
  {
   "cell_type": "markdown",
   "metadata": {},
   "source": [
    "## Feature Engineering\n",
    "\n",
    "Now that we have defined churn, we can engineer features by studying differences between the group of users who churned and those who did not."
   ]
  },
  {
   "cell_type": "code",
   "execution_count": 14,
   "metadata": {},
   "outputs": [
    {
     "name": "stdout",
     "output_type": "stream",
     "text": [
      "+-----+-----+------+\n",
      "|churn|level| count|\n",
      "+-----+-----+------+\n",
      "|    0| free| 43430|\n",
      "|    0| paid|189957|\n",
      "|    1| paid| 32476|\n",
      "|    1| free| 12388|\n",
      "+-----+-----+------+\n",
      "\n"
     ]
    }
   ],
   "source": [
    "# Join our churn dataset to our full dataset to add a column\n",
    "joined_df = df.join(churn_df, on='userId')\n",
    "\n",
    "# Use this column to create some aggregates, first comparing the level of the account\n",
    "joined_df.groupBy(['churn', 'level']).count().show(5)"
   ]
  },
  {
   "cell_type": "code",
   "execution_count": 15,
   "metadata": {},
   "outputs": [
    {
     "data": {
      "image/png": "[encoded data removed]",
      "text/plain": [
       "<Figure size 432x288 with 1 Axes>"
      ]
     },
     "metadata": {},
     "output_type": "display_data"
    }
   ],
   "source": [
    "# Build a data visualization: a grouped bar chart of proportions\n",
    "level_df = joined_df.groupBy(['churn', 'level']).count().toPandas()\n",
    "churn_sum = level_df.groupby('churn', as_index=False).sum()\n",
    "level_df['proportion'] = (level_df.join(churn_sum, on = 'churn', lsuffix='_1')['count_1']/level_df.join(churn_sum, on = 'churn', lsuffix='_1')['count'])*100\n",
    "\n",
    "g = sns.barplot(x=\"churn\", y=\"proportion\", hue=\"level\", data=level_df,\n",
    "                palette=\"muted\")\n",
    "g.set(xlabel='Churn', ylabel=\"Tier Proportion (in %)\")\n",
    "plt.show();"
   ]
  },
  {
   "cell_type": "code",
   "execution_count": 16,
   "metadata": {},
   "outputs": [
    {
     "name": "stdout",
     "output_type": "stream",
     "text": [
      "+-----+------------------+\n",
      "|churn|       avg(length)|\n",
      "+-----+------------------+\n",
      "|    1| 248.6327956440622|\n",
      "|    0|249.20913538880808|\n",
      "+-----+------------------+\n",
      "\n"
     ]
    }
   ],
   "source": [
    "# Then the length variable\n",
    "joined_df.groupBy('churn').avg('length').show(5)"
   ]
  },
  {
   "cell_type": "code",
   "execution_count": 17,
   "metadata": {},
   "outputs": [
    {
     "data": {
      "image/png": "[encoded data removed]",
      "text/plain": [
       "<Figure size 432x216 with 2 Axes>"
      ]
     },
     "metadata": {},
     "output_type": "display_data"
    }
   ],
   "source": [
    "# get the average length for every user, keeping the churn information and transform to a Pandas dataframe\n",
    "length_df = joined_df.groupBy(['userId', 'churn']).avg('length').toPandas()\n",
    "\n",
    "# visualize the distribution of length between two groups of users\n",
    "g = sns.FacetGrid(length_df, col=\"churn\", sharey=False)\n",
    "g.map(plt.hist, \"avg(length)\");"
   ]
  },
  {
   "cell_type": "code",
   "execution_count": 18,
   "metadata": {},
   "outputs": [
    {
     "name": "stdout",
     "output_type": "stream",
     "text": [
      "+-----+------------------+\n",
      "|churn|avg(itemInSession)|\n",
      "+-----+------------------+\n",
      "|    1|109.23299304564907|\n",
      "|    0|115.94533542999396|\n",
      "+-----+------------------+\n",
      "\n"
     ]
    }
   ],
   "source": [
    "# The itemInSession variable, which represents the rank fo the song in the current sessionk\n",
    "joined_df.groupBy('churn').avg('itemInSession').show(5)"
   ]
  },
  {
   "cell_type": "code",
   "execution_count": 19,
   "metadata": {},
   "outputs": [
    {
     "data": {
      "image/png": "[encoded data removed]",
      "text/plain": [
       "<Figure size 432x216 with 2 Axes>"
      ]
     },
     "metadata": {},
     "output_type": "display_data"
    }
   ],
   "source": [
    "# Similar to length, we visualize the distribution between both groups\n",
    "item_df = joined_df.groupBy(['userId','churn']).avg('itemInSession').toPandas()\n",
    "g = sns.FacetGrid(item_df, col=\"churn\", sharey=False)\n",
    "g.map(plt.hist, \"avg(itemInSession)\");"
   ]
  },
  {
   "cell_type": "code",
   "execution_count": 20,
   "metadata": {},
   "outputs": [
    {
     "name": "stdout",
     "output_type": "stream",
     "text": [
      "+-----+-----+-----+\n",
      "|churn|state|count|\n",
      "+-----+-----+-----+\n",
      "|    0|   CA|39158|\n",
      "|    0|   PA|23708|\n",
      "|    0|   TX|22200|\n",
      "|    0|   NH|18637|\n",
      "|    0|   FL|11427|\n",
      "+-----+-----+-----+\n",
      "only showing top 5 rows\n",
      "\n",
      "+-----+-----+-----+\n",
      "|churn|state|count|\n",
      "+-----+-----+-----+\n",
      "|    1|   CA| 7613|\n",
      "|    1|   CO| 4317|\n",
      "|    1|   MS| 3839|\n",
      "|    1|   WA| 3526|\n",
      "|    1|   OH| 3173|\n",
      "+-----+-----+-----+\n",
      "only showing top 5 rows\n",
      "\n"
     ]
    }
   ],
   "source": [
    "# Let's create a variable representing the state\n",
    "joined_df = joined_df.withColumn('state', substring(col(\"location\"), -2, 3))\n",
    "\n",
    "# See the most present states for people who churned \n",
    "joined_df.groupBy(['churn', 'state']).count().where(joined_df['churn'] == 0).sort(col('count').desc()).show(5)\n",
    "joined_df.groupBy(['churn', 'state']).count().where(joined_df['churn'] == 1).sort(col('count').desc()).show(5)"
   ]
  },
  {
   "cell_type": "code",
   "execution_count": 21,
   "metadata": {},
   "outputs": [
    {
     "name": "stdout",
     "output_type": "stream",
     "text": [
      "+-----+--------------------+\n",
      "|churn|             avg(ts)|\n",
      "+-----+--------------------+\n",
      "|    1|1.539919263874465E12|\n",
      "|    0|1.541159010797734...|\n",
      "+-----+--------------------+\n",
      "\n"
     ]
    }
   ],
   "source": [
    "# Study potential differences based on ts\n",
    "joined_df.groupBy('churn').avg('ts').show(5)"
   ]
  },
  {
   "cell_type": "code",
   "execution_count": 22,
   "metadata": {},
   "outputs": [],
   "source": [
    "# the ts column is actually a unix timestamp, which we convert to a date format\n",
    "joined_df = joined_df.withColumn('date', from_unixtime((col('ts')/1000)).cast(DateType()))"
   ]
  },
  {
   "cell_type": "code",
   "execution_count": 23,
   "metadata": {},
   "outputs": [],
   "source": [
    "# once this is done, we can create several time based features\n",
    "# first, extract day and month from the date column\n",
    "joined_df = joined_df.withColumn('day', dayofmonth('date')).withColumn('month', month('date'))\n",
    "\n",
    "# then for a given user get the average number of distinct sessions per day and per month\n",
    "day_df = joined_df.groupBy(['userId', 'day']).agg(countDistinct('sessionId')).groupBy('userId').avg('count(DISTINCT sessionId)') \\\n",
    "                  .withColumnRenamed('avg(count(DISTINCT sessionId))', 'daily_sessions')\n",
    "month_df = joined_df.groupBy(['userId', 'month']).agg(countDistinct('sessionId')).groupBy('userId').avg('count(DISTINCT sessionId)') \\\n",
    "                  .withColumnRenamed('avg(count(DISTINCT sessionId))', 'monthly_sessions')\n",
    "\n",
    "# join this information back to the original joined_df for each row for a given userId, it will be used later\n",
    "joined_df = joined_df.join(day_df, on='userId').join(month_df, on='userId')"
   ]
  },
  {
   "cell_type": "code",
   "execution_count": 24,
   "metadata": {},
   "outputs": [
    {
     "name": "stdout",
     "output_type": "stream",
     "text": [
      "+-----+-------------------+\n",
      "|churn|avg(daily_sessions)|\n",
      "+-----+-------------------+\n",
      "|    1| 1.3486546923719596|\n",
      "|    0| 1.6796452897398528|\n",
      "+-----+-------------------+\n",
      "\n",
      "+-----+---------------------+\n",
      "|churn|avg(monthly_sessions)|\n",
      "+-----+---------------------+\n",
      "|    1|    9.296020565858312|\n",
      "|    0|   14.264002136651344|\n",
      "+-----+---------------------+\n",
      "\n"
     ]
    }
   ],
   "source": [
    "# Compare number of daily and monthly sessions for the two groups of users\n",
    "joined_df.groupBy('churn').avg('daily_sessions').show()\n",
    "joined_df.groupBy('churn').avg('monthly_sessions').show()"
   ]
  },
  {
   "cell_type": "code",
   "execution_count": 25,
   "metadata": {},
   "outputs": [
    {
     "name": "stdout",
     "output_type": "stream",
     "text": [
      "+-----+-------------+-----+\n",
      "|churn| registration|count|\n",
      "+-----+-------------+-----+\n",
      "|    0|1529027541000| 9632|\n",
      "|    0|1536403972000| 7230|\n",
      "|    0|1536642109000| 6880|\n",
      "|    0|1538336771000| 5732|\n",
      "|    0|1532224335000| 4825|\n",
      "+-----+-------------+-----+\n",
      "only showing top 5 rows\n",
      "\n",
      "+-----+-------------+-----+\n",
      "|churn| registration|count|\n",
      "+-----+-------------+-----+\n",
      "|    1|1536988041000| 3603|\n",
      "|    1|1532482662000| 3437|\n",
      "|    1|1538080987000| 2464|\n",
      "|    1|1526739206000| 2168|\n",
      "|    1|1535066380000| 2149|\n",
      "+-----+-------------+-----+\n",
      "only showing top 5 rows\n",
      "\n"
     ]
    }
   ],
   "source": [
    "# Study potential differences based on registration\n",
    "joined_df.groupBy(['churn', 'registration']).count().where(joined_df['churn'] == 0).sort(col('count').desc()).show(5)\n",
    "joined_df.groupBy(['churn', 'registration']).count().where(joined_df['churn'] == 1).sort(col('count').desc()).show(5)"
   ]
  },
  {
   "cell_type": "code",
   "execution_count": 26,
   "metadata": {},
   "outputs": [
    {
     "name": "stdout",
     "output_type": "stream",
     "text": [
      "+-----+--------------------+-----+\n",
      "|churn|           userAgent|count|\n",
      "+-----+--------------------+-----+\n",
      "|    0|\"Mozilla/5.0 (Win...|18226|\n",
      "|    0|\"Mozilla/5.0 (Mac...|16298|\n",
      "|    0|\"Mozilla/5.0 (Mac...|15914|\n",
      "|    0|\"Mozilla/5.0 (Win...|15237|\n",
      "|    0|Mozilla/5.0 (Wind...|15224|\n",
      "+-----+--------------------+-----+\n",
      "only showing top 5 rows\n",
      "\n",
      "+-----+--------------------+-----+\n",
      "|churn|           userAgent|count|\n",
      "+-----+--------------------+-----+\n",
      "|    1|\"Mozilla/5.0 (Mac...| 4736|\n",
      "|    1|\"Mozilla/5.0 (Win...| 4525|\n",
      "|    1|Mozilla/5.0 (Wind...| 3437|\n",
      "|    1|\"Mozilla/5.0 (Mac...| 2534|\n",
      "|    1|Mozilla/5.0 (Maci...| 2462|\n",
      "+-----+--------------------+-----+\n",
      "only showing top 5 rows\n",
      "\n"
     ]
    }
   ],
   "source": [
    "# Study potential differences based on user agent\n",
    "joined_df.groupBy(['churn', 'userAgent']).count().where(joined_df['churn'] == 0).sort(col('count').desc()).show(5)\n",
    "joined_df.groupBy(['churn', 'userAgent']).count().where(joined_df['churn'] == 1).sort(col('count').desc()).show(5)"
   ]
  },
  {
   "cell_type": "code",
   "execution_count": 27,
   "metadata": {},
   "outputs": [],
   "source": [
    "# For a given user we compute number of downgrades, upgrades, thumbs up, thumbs down, add friend, add to playlist, roll advert\n",
    "\n",
    "# Create a column for each of these events, with a 1 each time they occur\n",
    "for c in ['Downgrade', 'Roll Advert', 'Thumbs Down', 'Add to Playlist', 'Add Friend', 'Thumbs Up']:\n",
    "    joined_df = joined_df.withColumn(c, (joined_df['Page'] == c).cast(IntegerType()))\n",
    "    \n",
    "# Prepare data for the pipeline\n",
    "features_df = joined_df.groupBy('userId').agg(avg('itemInSession'), \n",
    "                                              avg('length'),\n",
    "                                              min('daily_sessions'),\n",
    "                                              min('monthly_sessions'),\n",
    "                                            max('level'), \n",
    "                                            max('userAgent'),\n",
    "                                           max('state'),\n",
    "                                           sum('Downgrade'),\n",
    "                                           sum('Roll Advert'),\n",
    "                                           sum('Thumbs Down'),\n",
    "                                           sum('Add to Playlist'),\n",
    "                                           sum('Add Friend'),\n",
    "                                           sum('Thumbs Up'),\n",
    "                                           max('churn'))\n",
    "\n",
    "features_df = features_df.select(col('avg(itemInSession)').alias('itemInSession'),\n",
    "                                 col('avg(length)').alias('length'),\n",
    "                                 col('min(daily_sessions)').alias('daily_sessions'),\n",
    "                                 col('min(monthly_sessions)').alias('monthly_sessions'),\n",
    "                  col('max(level)').alias('level'),\n",
    "                  col('max(userAgent)').alias('userAgent'),\n",
    "                  col('max(state)').alias('state'),\n",
    "                  col('sum(Downgrade)').alias('downgrade'),\n",
    "                  col('sum(Roll Advert)').alias('rollAdvert'),\n",
    "                  col('sum(Thumbs Down)').alias('thumbsDown'),\n",
    "                  col('sum(Add to Playlist)').alias('addToPlaylist'),\n",
    "                  col('sum(Add Friend)').alias('addFriend'),\n",
    "                  col('sum(Thumbs Up)').alias('thumbsUp'),\n",
    "                  col('max(churn)').alias('label'))"
   ]
  },
  {
   "cell_type": "code",
   "execution_count": 28,
   "metadata": {},
   "outputs": [
    {
     "name": "stdout",
     "output_type": "stream",
     "text": [
      "+-------------+------+--------------+----------------+-----+---------+-----+---------+----------+----------+-------------+---------+--------+-----+\n",
      "|itemInSession|length|daily_sessions|monthly_sessions|level|userAgent|state|downgrade|rollAdvert|thumbsDown|addToPlaylist|addFriend|thumbsUp|label|\n",
      "+-------------+------+--------------+----------------+-----+---------+-----+---------+----------+----------+-------------+---------+--------+-----+\n",
      "|            0|     1|             0|               0|    0|        1|    1|        0|         0|         0|            0|        0|       0|    0|\n",
      "+-------------+------+--------------+----------------+-----+---------+-----+---------+----------+----------+-------------+---------+--------+-----+\n",
      "\n"
     ]
    }
   ],
   "source": [
    "# Visualize the presence of potential null values\n",
    "features_df.select([count(when(isnull(c), c)).alias(c) for c in features_df.columns]).show()\n",
    "\n",
    "# Remove these null values\n",
    "features_df = features_df.where(col(\"userAgent\").isNotNull()).where(col(\"state\").isNotNull())"
   ]
  },
  {
   "cell_type": "markdown",
   "metadata": {},
   "source": [
    "After studying distribution of various features between users who churned and those who did not, we choose these specific features for our model:\n",
    "- although on average the length is the same, digging into the distribution between these two groups shows some slight differences so we include this feature in our model\n",
    "- after a similar reasoning, we include item in session (which loosely translates to the number of songs per session) in our model\n",
    "- the tier (18.6% free for people who churned vs. 27.6% free for people who churned) and the state appear to provide information as to whether a user will churn or not \n",
    "- realizing that the ts column is actually a unix timestamp, we can convert it to a date and extract time-based features such as the average number of sessions per day and per month. Both these features vary between both groups so we include them in our model\n",
    "- we also assume on-platform behaviors (thumbs up e.g.) will be informative so we include them in the model.\n",
    "\n",
    "In our aggregation per user, we have to limit ourselves to one level/state and user agent, chosen at random, which could be a potential issue if they changed, but the distributed nature of Spark makes mode implementation tricky and hence we rely on a random choice.\n",
    "\n",
    "We also have to remove a few missing values."
   ]
  },
  {
   "cell_type": "markdown",
   "metadata": {},
   "source": [
    "# Modeling\n"
   ]
  },
  {
   "cell_type": "code",
   "execution_count": 29,
   "metadata": {},
   "outputs": [],
   "source": [
    "# We first create a pipeline to prepare our data for modeling\n",
    "indexer_state = StringIndexer(inputCol='state', outputCol='state_index')\n",
    "indexer_level = StringIndexer(inputCol='level', outputCol='level_index')\n",
    "indexer_ua = StringIndexer(inputCol='userAgent', outputCol='userAgent_index')\n",
    "assembler = VectorAssembler(inputCols=['itemInSession', \n",
    "                                       'length',\n",
    "                                       'daily_sessions',\n",
    "                                       'monthly_sessions',\n",
    "                                       'level_index', \n",
    "                                       'state_index',\n",
    "                                       'userAgent_index',\n",
    "                                       'downgrade',\n",
    "                                       'rollAdvert',\n",
    "                                       'thumbsDown',\n",
    "                                       'addToPlaylist',\n",
    "                                       'addFriend',\n",
    "                                       'thumbsUp'],\n",
    "                           outputCol='features')\n",
    "features_pipeline = Pipeline(stages=[indexer_state, indexer_level, indexer_ua, assembler])\n",
    "\n",
    "model_df = features_pipeline.fit(features_df).transform(features_df)"
   ]
  },
  {
   "cell_type": "code",
   "execution_count": 30,
   "metadata": {},
   "outputs": [],
   "source": [
    "# Due to the structure of data, we need to convert some features vector from Sparse to Dense\n",
    "df2 = model_df.select(\"label\", \"features\")\n",
    "rdd = df2.rdd.map(lambda x: Row(label=x[0],features=DenseVector(x[1].toArray()))\n",
    "                     if (len(x)>1 and hasattr(x[1], \"toArray\"))\n",
    "                     else Row(label=None, features=DenseVector([])))\n",
    "model_data = spark.createDataFrame(rdd)"
   ]
  },
  {
   "cell_type": "code",
   "execution_count": 44,
   "metadata": {},
   "outputs": [],
   "source": [
    "# Create a function to train and estimate a model\n",
    "def fit_estimate(train, test, model):\n",
    "    '''\n",
    "    INPUTS:\n",
    "    train (Spark df): a Spark data frame with training data\n",
    "    test (Spark df): a Spark data frame with testing data\n",
    "    model (string): a string designating one of the models to fit, either 'logistic_regression', 'random_forest' \n",
    "                    or 'gradient_boosting'\n",
    "    \n",
    "    OUTPUT:\n",
    "    None, prints out accuracy for the model\n",
    "    \n",
    "    DESCRIPTION:\n",
    "    Fits and estimates different classification models with the default parameters\n",
    "    '''\n",
    "    # Choose the model\n",
    "    if model == 'logistic_regression':\n",
    "        ml = LogisticRegression()\n",
    "    elif model == 'random_forest':\n",
    "        ml = RandomForestClassifier()\n",
    "    elif model == 'gradient_boosting':\n",
    "        ml = GBTClassifier()\n",
    "    else:\n",
    "        return \"Please choose an appropriate model\"\n",
    "    \n",
    "    # Fit and calculate predictions\n",
    "    classification = ml.fit(train)\n",
    "    results = classification.transform(test)\n",
    "    \n",
    "    # Calculate accuracy and F-1 score\n",
    "    accuracy_evaluator = MulticlassClassificationEvaluator(metricName='accuracy')\n",
    "    accuracy = accuracy_evaluator.evaluate(results.select(col('label'), col('prediction')))\n",
    "    \n",
    "    f1_score_evaluator = MulticlassClassificationEvaluator(metricName='f1')\n",
    "    f1_score = f1_score_evaluator.evaluate(results.select(col('label'), col('prediction')))\n",
    "    \n",
    "    print('For {}, the accuracy on the test set is {:.2%} and the F-1 score is {}'\\\n",
    "    .format(model, accuracy, f1_score))"
   ]
  },
  {
   "cell_type": "code",
   "execution_count": null,
   "metadata": {},
   "outputs": [
    {
     "name": "stdout",
     "output_type": "stream",
     "text": [
      "In our training set, we have 41 users who churned and 150 who did not.\n"
     ]
    }
   ],
   "source": [
    "# Split this data between train, validation and test sets\n",
    "train, test = model_data.randomSplit([0.8, 0.2], seed=42)\n",
    "\n",
    "# Due to the class imbalance, we upsample the categories who churned in the training dataset\n",
    "print('In our training set, we have {} users who churned and {} who did not.'.format(train.where(col('label') == 1).count(),\n",
    "                                                                                           train.where(col('label') == 0).count()))\n",
    "\n",
    "train_churn = train.where(col('label') == 1).sample(True, train.where(col('label') == 0).count()/train.where(col('label') == 1).count())\n",
    "train_no_churn = train.where(col('label') == 0)\n",
    "train = train_churn.unionAll(train_no_churn)"
   ]
  },
  {
   "cell_type": "code",
   "execution_count": null,
   "metadata": {},
   "outputs": [
    {
     "name": "stdout",
     "output_type": "stream",
     "text": [
      "For logistic_regression, the accuracy on the test set is 76.47% and the F-1 score is 0.7578431372549018\n"
     ]
    }
   ],
   "source": [
    "# Fit various models and visualize their accuracies\n",
    "for model in ['logistic_regression', 'random_forest', 'gradient_boosting']:\n",
    "    fit_estimate(train, test, model)"
   ]
  },
  {
   "cell_type": "markdown",
   "metadata": {},
   "source": [
    "These three models perform quite similarly. We choose to optimize the logistic regression model: its F-score is the highest but it has not the worst accuracy. Nonetheless, its coefficients make it easy to interpret the impact of specific features. We choose to optimize to the accuracy and not F1 score since we took care of the class imbalance before."
   ]
  },
  {
   "cell_type": "code",
   "execution_count": 34,
   "metadata": {},
   "outputs": [
    {
     "name": "stdout",
     "output_type": "stream",
     "text": [
      "For the optimized model, the accuracy on the test set is 67.65% and the F-1 score is 0\n"
     ]
    }
   ],
   "source": [
    "# Optimize a model, gradient boosting since higher F-1 Score\n",
    "model = LogisticRegression()\n",
    "param_grid = ParamGridBuilder() \\\n",
    "    .addGrid(model.regParam, [0.0, 0.1, 0.3]) \\\n",
    "    .build()\n",
    "\n",
    "crossval = CrossValidator(estimator = Pipeline(stages=[model]),\n",
    "                         estimatorParamMaps = param_grid,\n",
    "                         evaluator = MulticlassClassificationEvaluator(metricName='accuracy'),\n",
    "                         numFolds = 3)\n",
    "\n",
    "classification = crossval.fit(train)\n",
    "results = classification.transform(test)\n",
    "\n",
    "# Calculate accuracy and F-1 score\n",
    "accuracy_evaluator = MulticlassClassificationEvaluator(metricName='accuracy')\n",
    "accuracy = accuracy_evaluator.evaluate(results.select(col('label'), col('prediction')))\n",
    "\n",
    "f1_score_evaluator = MulticlassClassificationEvaluator(metricName='f1')\n",
    "f1_score = f1_score_evaluator.evaluate(results.select(col('label'), col('prediction')))\n",
    "\n",
    "print('For {}, the accuracy on the test set is {:.2%} and the F-1 score is {}'\\\n",
    ".format(model, accuracy, f1_score))"
   ]
  },
  {
   "cell_type": "markdown",
   "metadata": {},
   "source": [
    "We first had to convert all our features to numeric, with the help of a processing pipeline. Then, we upsampled the \"churn\" category in our training dataset in order to fight the class imbalance which is present. We choose this rather than downsampling due to the small number of people present in our dataset (362 in the training set). Nonetheless, it is important to leave the test set as is in order for it to be a true representation of what would happen in the real world.\n",
    "\n",
    "We fitted several models with the default parameters to get a sense of which performs best \"out of the box\". After this, we used cross-validation to tune the hyperparameters of the model, and reached % accuracy and a F-1 score of ?? with ??. \n",
    "\n",
    "While having a model is very powerful to flag people \"at risk\" for the company and hence target them with interesting offers (discounts, more attention), it is also insightful to visualize which elements are most important in predicting churn. Looking at feature importance ??"
   ]
  },
  {
   "cell_type": "markdown",
   "metadata": {},
   "source": [
    "# Conclusion\n",
    "\n",
    "Include reflection and potential improvement (end-to-end problem solving, one or two aspects I found particularly challenging or interesting)."
   ]
  },
  {
   "cell_type": "code",
   "execution_count": null,
   "metadata": {},
   "outputs": [],
   "source": []
  }
 ],
 "metadata": {
  "kernelspec": {
   "display_name": "Python [default]",
   "language": "python",
   "name": "python3"
  },
  "language_info": {
   "codemirror_mode": {
    "name": "ipython",
    "version": 3
   },
   "file_extension": ".py",
   "mimetype": "text/x-python",
   "name": "python",
   "nbconvert_exporter": "python",
   "pygments_lexer": "ipython3",
   "version": "3.6.6"
  }
 },
 "nbformat": 4,
 "nbformat_minor": 1
}
